{
 "cells": [
  {
   "cell_type": "markdown",
   "metadata": {
    "colab_type": "text",
    "id": "OkoBHU3i_61A"
   },
   "source": [
    "# BUS 32120, Prework 1\n",
    "# Introduction to programming through Python\n",
    "\n",
    "Learning objectives: \n",
    "* What sets Python apart from other programming languages\n",
    "* Basics of computer language: variables, data types and containers (e.g. lists and tuples)\n",
    "* The difference between mutable and immutable data types\n",
    "* How to change control flow through if-then statements\n",
    "* Repeating code using loops\n",
    "* Easily reusing code through functions"
   ]
  },
  {
   "cell_type": "markdown",
   "metadata": {
    "colab_type": "text",
    "id": "q-qeHmeS__Bw"
   },
   "source": [
    "## Why do we have more than one programming language? "
   ]
  },
  {
   "cell_type": "markdown",
   "metadata": {
    "colab_type": "text",
    "id": "q40fQyVxHTEi"
   },
   "source": [
    "Different languages are aimed at solving different problems. E.g. web versus operating industrial machines. There are some languages that let you do things \"close to the metal\" whereas others abstract things away so they're easier for a human to read (but trade off on being slower). \n",
    "\n",
    "Python is a good place to start for a beginner, and popular in data analytics, because it's interpreted (no waiting for a compiler to check the code before you can run it) and it's high-level (the code you write looks more like human language than the 0s and 1s the computer understands). \n",
    "\n",
    "Python is particularly popular in data analytics because of the large ecosystem of packages that make data easier: \n",
    "* `Pandas` for data frames (like Excel files, a way to organize data)\n",
    "* `Numpy` for optimized, fast computation like linear algebra and probability\n",
    "* `sci-kit-learn` for pre-built machine learning models"
   ]
  },
  {
   "cell_type": "markdown",
   "metadata": {
    "colab_type": "text",
    "id": "y2AKF5XENnNV"
   },
   "source": [
    "## Which version of Python are we using? "
   ]
  },
  {
   "cell_type": "code",
   "execution_count": 1,
   "metadata": {
    "colab": {
     "base_uri": "https://localhost:8080/",
     "height": 34
    },
    "colab_type": "code",
    "id": "EuWjJ_qPBb6m",
    "outputId": "2435cded-bea5-41b6-b9f9-d58f52cf84cd"
   },
   "outputs": [
    {
     "name": "stdout",
     "output_type": "stream",
     "text": [
      "Python 3.11.9\n"
     ]
    }
   ],
   "source": [
    "# In notebooks, using ! is how we can run terminal commands \n",
    "# Also, this is a comment: a line that begins with # and isn't interpreted as code\n",
    "# There are only single-line comments in Python \n",
    "! python --version"
   ]
  },
  {
   "cell_type": "markdown",
   "metadata": {
    "colab_type": "text",
    "id": "tTKVVBSOVr-f"
   },
   "source": [
    "## The starting point of all programming tutorials: \"Hello, world!\""
   ]
  },
  {
   "cell_type": "code",
   "execution_count": 38,
   "metadata": {
    "colab": {
     "base_uri": "https://localhost:8080/",
     "height": 34
    },
    "colab_type": "code",
    "id": "ZWqm_AJyDo66",
    "outputId": "971fda94-0a36-4e2e-d246-17cfd1cc7359"
   },
   "outputs": [
    {
     "name": "stdout",
     "output_type": "stream",
     "text": [
      "Hello, world!\n"
     ]
    }
   ],
   "source": [
    "# characters inside of \"\" are called string literals \n",
    "# Python will not evaluate what's inside \"\" and will just literally print the string as-is! \n",
    "print(\"Hello, world!\")"
   ]
  },
  {
   "cell_type": "code",
   "execution_count": 2,
   "metadata": {},
   "outputs": [
    {
     "name": "stdout",
     "output_type": "stream",
     "text": [
      "One\n",
      "On\"e two\n",
      "One two 3\n"
     ]
    }
   ],
   "source": [
    "# How do we print to the standard output? Using print(), which can take any number of arguments\n",
    "\n",
    "print(\"One\")\n",
    "print(\"One\" , \"two\")\n",
    "# similar to using functions in Excel, \n",
    "# e.g. vlookup(A3, B5:B10) where vlookup() is the function and A3, B5:B10 are parameters/inputs\n",
    "print(\"One\" , \"two\" , 3)"
   ]
  },
  {
   "cell_type": "markdown",
   "metadata": {},
   "source": [
    "## What's in a name: variables\n",
    "\n",
    "Computing boils down to this: store some information, then perform some actions on that information. In order to do that more easily, we need a way to refer to our information. That's where variables come in. They are the most basic building blocks of code. Variables give us a way to refer to places in computer memory where information (such as a number) are being stored. "
   ]
  },
  {
   "cell_type": "code",
   "execution_count": 4,
   "metadata": {},
   "outputs": [],
   "source": [
    "# variable_name = value\n",
    "x = 5"
   ]
  },
  {
   "cell_type": "code",
   "execution_count": 5,
   "metadata": {},
   "outputs": [
    {
     "data": {
      "text/plain": [
       "5"
      ]
     },
     "execution_count": 5,
     "metadata": {},
     "output_type": "execute_result"
    }
   ],
   "source": [
    "x"
   ]
  },
  {
   "cell_type": "markdown",
   "metadata": {},
   "source": [
    "In the above bit of code, we created a variable called `x` and *stored* the value 5 inside of it. \n",
    "\n",
    "There are some rules and best practices for naming variables in Python. You can't start a variable name with a number. It's best to be descriptive: better too long than too short! If you're using multiple words, separate them with an underscore: so, `my_list` instead of `mylist` or `myList`. "
   ]
  },
  {
   "cell_type": "code",
   "execution_count": 8,
   "metadata": {},
   "outputs": [
    {
     "name": "stdout",
     "output_type": "stream",
     "text": [
      "a\n",
      "b\n"
     ]
    }
   ],
   "source": [
    "x = 'a'\n",
    "y = \"b\"\n",
    "print(x)\n",
    "print(y)"
   ]
  },
  {
   "cell_type": "code",
   "execution_count": 46,
   "metadata": {},
   "outputs": [
    {
     "data": {
      "text/plain": [
       "'this is a \"quote\"'"
      ]
     },
     "execution_count": 46,
     "metadata": {},
     "output_type": "execute_result"
    }
   ],
   "source": [
    "x = 'this is a \"quote\"'\n",
    "x\n",
    "# note that in a jupyter notebook, the last line will be printed out without having to use a print() "
   ]
  },
  {
   "cell_type": "code",
   "execution_count": 48,
   "metadata": {},
   "outputs": [],
   "source": [
    "a = 6"
   ]
  },
  {
   "cell_type": "code",
   "execution_count": 9,
   "metadata": {},
   "outputs": [],
   "source": [
    "this_is_a_variable_name = 1"
   ]
  },
  {
   "cell_type": "code",
   "execution_count": 10,
   "metadata": {},
   "outputs": [
    {
     "data": {
      "text/plain": [
       "1"
      ]
     },
     "execution_count": 10,
     "metadata": {},
     "output_type": "execute_result"
    }
   ],
   "source": [
    "this_is_a_variable_name"
   ]
  },
  {
   "cell_type": "code",
   "execution_count": 11,
   "metadata": {},
   "outputs": [],
   "source": [
    "thisIsAVariable = 2 # not standard Python, but it works!"
   ]
  },
  {
   "cell_type": "code",
   "execution_count": 49,
   "metadata": {},
   "outputs": [],
   "source": [
    "x = a"
   ]
  },
  {
   "cell_type": "code",
   "execution_count": 50,
   "metadata": {},
   "outputs": [],
   "source": [
    "a = 7"
   ]
  },
  {
   "cell_type": "code",
   "execution_count": 14,
   "metadata": {},
   "outputs": [
    {
     "name": "stdout",
     "output_type": "stream",
     "text": [
      "7\n",
      "6\n"
     ]
    }
   ],
   "source": [
    "print(a) \n",
    "print(x)"
   ]
  },
  {
   "cell_type": "markdown",
   "metadata": {
    "colab_type": "text",
    "id": "baoI9QexEW7i"
   },
   "source": [
    "## Variable types in Python"
   ]
  },
  {
   "cell_type": "markdown",
   "metadata": {
    "colab_type": "text",
    "id": "zATkgH7_IoOW"
   },
   "source": [
    "The most basic unit we care about in a high-level language is a **variable**. There are two general types of variables: primitives and the rest. Primitives we get for free (as in, they're built into the langauge). Primitives are things like integers, floats (decimal numbers) and strings. The other data types are either created by the user or are containers for primitives (e.g. lists). \n",
    "\n",
    "**Python does not enforce type.** This means that you can declare a variable (give it a name) and set it to be some value, but then you can change the type of the value but keep the same variable name. "
   ]
  },
  {
   "cell_type": "code",
   "execution_count": 15,
   "metadata": {
    "colab": {
     "base_uri": "https://localhost:8080/",
     "height": 34
    },
    "colab_type": "code",
    "id": "JvUAYXwhJjJ6",
    "outputId": "24639911-465b-493b-d668-f82977855df4"
   },
   "outputs": [
    {
     "data": {
      "text/plain": [
       "7"
      ]
     },
     "execution_count": 15,
     "metadata": {},
     "output_type": "execute_result"
    }
   ],
   "source": [
    "x = 7\n",
    "x"
   ]
  },
  {
   "cell_type": "code",
   "execution_count": 16,
   "metadata": {
    "colab": {
     "base_uri": "https://localhost:8080/",
     "height": 34
    },
    "colab_type": "code",
    "id": "_UhOou_1JmD3",
    "outputId": "ec7ba5ac-d5d8-45c2-b5b2-2f194cbb8758"
   },
   "outputs": [
    {
     "data": {
      "text/plain": [
       "'a string'"
      ]
     },
     "execution_count": 16,
     "metadata": {},
     "output_type": "execute_result"
    }
   ],
   "source": [
    "x = 'a string'\n",
    "x"
   ]
  },
  {
   "cell_type": "code",
   "execution_count": 17,
   "metadata": {
    "colab": {
     "base_uri": "https://localhost:8080/",
     "height": 34
    },
    "colab_type": "code",
    "id": "owUWznTXJo1L",
    "outputId": "96d30157-15ac-4445-97ec-353aa0c9bcd3"
   },
   "outputs": [
    {
     "data": {
      "text/plain": [
       "1.7"
      ]
     },
     "execution_count": 17,
     "metadata": {},
     "output_type": "execute_result"
    }
   ],
   "source": [
    "x = 1.7\n",
    "x"
   ]
  },
  {
   "cell_type": "code",
   "execution_count": 52,
   "metadata": {},
   "outputs": [],
   "source": [
    "TRUE = False "
   ]
  },
  {
   "cell_type": "code",
   "execution_count": 19,
   "metadata": {
    "colab": {
     "base_uri": "https://localhost:8080/",
     "height": 34
    },
    "colab_type": "code",
    "id": "hVv8xAVVNOs6",
    "outputId": "fd12112f-7298-480e-99a4-fa582c3dbea1"
   },
   "outputs": [
    {
     "data": {
      "text/plain": [
       "False"
      ]
     },
     "execution_count": 19,
     "metadata": {},
     "output_type": "execute_result"
    }
   ],
   "source": [
    "x = False\n",
    "x"
   ]
  },
  {
   "cell_type": "code",
   "execution_count": 20,
   "metadata": {
    "colab": {
     "base_uri": "https://localhost:8080/",
     "height": 34
    },
    "colab_type": "code",
    "id": "AD8XQSo2NXIP",
    "outputId": "374390e8-7f1c-421f-d940-d6ee6108f225"
   },
   "outputs": [
    {
     "name": "stdout",
     "output_type": "stream",
     "text": [
      "8\n"
     ]
    }
   ],
   "source": [
    "# Even if you do wacky things, Python will try to be helpful\n",
    "# In this case, true evaluates to 1 \n",
    "x = True\n",
    "y = 7\n",
    "print(x+y)"
   ]
  },
  {
   "cell_type": "markdown",
   "metadata": {
    "colab_type": "text",
    "id": "TB6r7OIxN7Of"
   },
   "source": [
    "We can also change between types. Python gives us some functions for this. **Changing data types is called casting:** you can cast, e.g., a float into an integer."
   ]
  },
  {
   "cell_type": "code",
   "execution_count": 21,
   "metadata": {
    "colab": {
     "base_uri": "https://localhost:8080/",
     "height": 51
    },
    "colab_type": "code",
    "id": "bC8MnCOcNkcY",
    "outputId": "5fea6a22-1a19-4589-ee73-8c8c5b52c6cb"
   },
   "outputs": [
    {
     "name": "stdout",
     "output_type": "stream",
     "text": [
      "x =  1.7 \n",
      "Int x =  1\n"
     ]
    }
   ],
   "source": [
    "x = 1.7\n",
    "int_x = int(x)\n",
    "print(\"x = \", x, \"\\nInt x = \", int_x)"
   ]
  },
  {
   "cell_type": "code",
   "execution_count": 22,
   "metadata": {
    "colab": {
     "base_uri": "https://localhost:8080/",
     "height": 68
    },
    "colab_type": "code",
    "id": "LApOcLXwWBjb",
    "outputId": "f681e563-425f-44b1-b41d-0bd62338e047"
   },
   "outputs": [
    {
     "name": "stdout",
     "output_type": "stream",
     "text": [
      "Type of x =  <class 'float'>\n",
      "Type of y =  <class 'int'>\n",
      "Type of 'Python' <class 'str'>\n"
     ]
    }
   ],
   "source": [
    "# Let's check types! \n",
    "\n",
    "print(\"Type of x = \", type(x))\n",
    "print(\"Type of y = \", type(y))\n",
    "print(\"Type of 'Python'\" , type(\"Python\"))"
   ]
  },
  {
   "cell_type": "markdown",
   "metadata": {
    "colab_type": "text",
    "id": "i7iCZZdgX4_n"
   },
   "source": [
    "\n",
    "\n",
    "---\n",
    "\n"
   ]
  },
  {
   "cell_type": "markdown",
   "metadata": {
    "colab_type": "text",
    "id": "bw5O0N2GWg7p"
   },
   "source": [
    "## Container types: lists and tuples\n",
    "\n",
    "There are primitives (integers, floats) and then there are **container types to hold primitives and user-defined types (e.g. lists, tuples).**"
   ]
  },
  {
   "cell_type": "code",
   "execution_count": 23,
   "metadata": {
    "colab": {
     "base_uri": "https://localhost:8080/",
     "height": 34
    },
    "colab_type": "code",
    "id": "aGkRJ_AIWee0",
    "outputId": "14edb1e7-d4d6-4cd8-b2ba-1a18f347b59c"
   },
   "outputs": [
    {
     "data": {
      "text/plain": [
       "[1, 2, 3]"
      ]
     },
     "execution_count": 23,
     "metadata": {},
     "output_type": "execute_result"
    }
   ],
   "source": [
    "# lists contain several items of a primitive type\n",
    "my_list = [1,2,3]\n",
    "my_list"
   ]
  },
  {
   "cell_type": "code",
   "execution_count": 24,
   "metadata": {},
   "outputs": [
    {
     "name": "stdout",
     "output_type": "stream",
     "text": [
      "[1, 2, 3]\n"
     ]
    }
   ],
   "source": [
    "print(my_list)"
   ]
  },
  {
   "cell_type": "code",
   "execution_count": 11,
   "metadata": {},
   "outputs": [
    {
     "name": "stdout",
     "output_type": "stream",
     "text": [
      "[5, 6, 7]\n",
      "[1, 2, 3]\n"
     ]
    }
   ],
   "source": [
    "# lists contain several items of a primitive type\n",
    "my_list = [1,2,3]\n",
    "other_list = [5,6,7]\n",
    "print(other_list)\n",
    "print(my_list)"
   ]
  },
  {
   "cell_type": "code",
   "execution_count": 26,
   "metadata": {},
   "outputs": [],
   "source": [
    "test_list = [1, my_list, [2,3]]"
   ]
  },
  {
   "cell_type": "code",
   "execution_count": 27,
   "metadata": {},
   "outputs": [
    {
     "data": {
      "text/plain": [
       "[1, [1, 2, 3], [2, 3]]"
      ]
     },
     "execution_count": 27,
     "metadata": {},
     "output_type": "execute_result"
    }
   ],
   "source": [
    "test_list"
   ]
  },
  {
   "cell_type": "code",
   "execution_count": 28,
   "metadata": {
    "colab": {
     "base_uri": "https://localhost:8080/",
     "height": 34
    },
    "colab_type": "code",
    "id": "7CGqrD-bWfQE",
    "outputId": "db4fa838-e6ee-4863-a84d-3978f90ba1dd"
   },
   "outputs": [
    {
     "data": {
      "text/plain": [
       "[1, 'two', 3.0]"
      ]
     },
     "execution_count": 28,
     "metadata": {},
     "output_type": "execute_result"
    }
   ],
   "source": [
    "# Lists can hold different datatypes\n",
    "\n",
    "diverse_list = [1,\"two\",3.0]\n",
    "diverse_list"
   ]
  },
  {
   "cell_type": "code",
   "execution_count": 29,
   "metadata": {
    "colab": {
     "base_uri": "https://localhost:8080/",
     "height": 34
    },
    "colab_type": "code",
    "id": "O-nf26TEW0b4",
    "outputId": "13ca6b14-1316-437e-f188-efc9f96cbc4e"
   },
   "outputs": [
    {
     "data": {
      "text/plain": [
       "list"
      ]
     },
     "execution_count": 29,
     "metadata": {},
     "output_type": "execute_result"
    }
   ],
   "source": [
    "type(diverse_list)"
   ]
  },
  {
   "cell_type": "code",
   "execution_count": 30,
   "metadata": {
    "colab": {
     "base_uri": "https://localhost:8080/",
     "height": 34
    },
    "colab_type": "code",
    "id": "eItMhMcKW2MO",
    "outputId": "8fb91c6d-817c-4e60-84a8-39c44eb4781b"
   },
   "outputs": [
    {
     "data": {
      "text/plain": [
       "(1, 2, 3)"
      ]
     },
     "execution_count": 30,
     "metadata": {},
     "output_type": "execute_result"
    }
   ],
   "source": [
    "# Let's look at tuples. They look similar to lists but use () instead of []\n",
    "my_tuple = (1,2,3)\n",
    "my_tuple"
   ]
  },
  {
   "cell_type": "code",
   "execution_count": 31,
   "metadata": {
    "colab": {
     "base_uri": "https://localhost:8080/",
     "height": 34
    },
    "colab_type": "code",
    "id": "BWGHES3AW9IE",
    "outputId": "d4409adc-df34-40ee-fafa-a94d0eedc3d8"
   },
   "outputs": [
    {
     "data": {
      "text/plain": [
       "(1, 'two', 3.0)"
      ]
     },
     "execution_count": 31,
     "metadata": {},
     "output_type": "execute_result"
    }
   ],
   "source": [
    "diverse_tuple = (1,\"two\",3.0)\n",
    "diverse_tuple"
   ]
  },
  {
   "cell_type": "markdown",
   "metadata": {
    "colab_type": "text",
    "id": "i7iCZZdgX4_n"
   },
   "source": [
    "\n",
    "\n",
    "---\n",
    "\n"
   ]
  },
  {
   "cell_type": "markdown",
   "metadata": {
    "colab_type": "text",
    "id": "fknZrfg-Yrm5"
   },
   "source": [
    "## Indexing our containers: picking items from a list\n",
    "\n",
    "Lists have a set order (there are other container types, like dictionaries, that don't maintain an order). This order can be useful for us: if we know where the element we're interested in is, we can pull that one. "
   ]
  },
  {
   "cell_type": "code",
   "execution_count": 32,
   "metadata": {
    "colab": {
     "base_uri": "https://localhost:8080/",
     "height": 34
    },
    "colab_type": "code",
    "id": "Qr568peZFF04",
    "outputId": "d76853ff-3773-44d3-d191-fdf4e2ed0640"
   },
   "outputs": [
    {
     "data": {
      "text/plain": [
       "[1, 2, 3, 4, 5]"
      ]
     },
     "execution_count": 32,
     "metadata": {},
     "output_type": "execute_result"
    }
   ],
   "source": [
    "my_list = [1,2,3,4,5]\n",
    "my_list"
   ]
  },
  {
   "cell_type": "code",
   "execution_count": 33,
   "metadata": {
    "colab": {
     "base_uri": "https://localhost:8080/",
     "height": 34
    },
    "colab_type": "code",
    "id": "QzYzxEJBXGQG",
    "outputId": "a41815f8-0418-4e80-acc6-4b583a0f327e"
   },
   "outputs": [
    {
     "data": {
      "text/plain": [
       "1"
      ]
     },
     "execution_count": 33,
     "metadata": {},
     "output_type": "execute_result"
    }
   ],
   "source": [
    "# Let's check what a particular element in our list is by using an index to refer to it\n",
    "# Checking to see what an index holds does not remove it from our list \n",
    "\n",
    "my_list[0]"
   ]
  },
  {
   "cell_type": "code",
   "execution_count": 34,
   "metadata": {
    "colab": {
     "base_uri": "https://localhost:8080/",
     "height": 34
    },
    "colab_type": "code",
    "id": "Y8p2f-nEZCcL",
    "outputId": "95cb36aa-55e1-4504-b60a-d4ffaf7f4564"
   },
   "outputs": [
    {
     "data": {
      "text/plain": [
       "2"
      ]
     },
     "execution_count": 34,
     "metadata": {},
     "output_type": "execute_result"
    }
   ],
   "source": [
    "# Notice that indexing in Python starts at 0\n",
    "\n",
    "my_list[1]"
   ]
  },
  {
   "cell_type": "code",
   "execution_count": 35,
   "metadata": {
    "colab": {
     "base_uri": "https://localhost:8080/",
     "height": 51
    },
    "colab_type": "code",
    "id": "V_8RApzeZCH5",
    "outputId": "e6d59b49-41e9-4476-b522-8c361d7806c6"
   },
   "outputs": [
    {
     "name": "stdout",
     "output_type": "stream",
     "text": [
      "Item in index 0 is =  1 \n",
      "Item in index 1 is =  2\n"
     ]
    }
   ],
   "source": [
    "print(\"Item in index 0 is = \", my_list[0], \"\\nItem in index 1 is = \", my_list[1])"
   ]
  },
  {
   "cell_type": "code",
   "execution_count": 36,
   "metadata": {
    "colab": {
     "base_uri": "https://localhost:8080/",
     "height": 34
    },
    "colab_type": "code",
    "id": "vxVlzCeKZJak",
    "outputId": "56cfa6b5-ccb6-41fa-9343-83a82e133fa2"
   },
   "outputs": [
    {
     "name": "stdout",
     "output_type": "stream",
     "text": [
      "hello\n"
     ]
    }
   ],
   "source": [
    "# It doesn't matter what our lists hold; the indices always work the same \n",
    "\n",
    "mixed_list = [1,2.3,\"hello\"]\n",
    "print(mixed_list[2])"
   ]
  },
  {
   "cell_type": "code",
   "execution_count": 37,
   "metadata": {
    "colab": {
     "base_uri": "https://localhost:8080/",
     "height": 164
    },
    "colab_type": "code",
    "id": "8HAtXtTsZXwH",
    "outputId": "8b0f2c29-6f04-41f2-950e-f843a42d037f"
   },
   "outputs": [
    {
     "ename": "IndexError",
     "evalue": "list index out of range",
     "output_type": "error",
     "traceback": [
      "\u001b[0;31m---------------------------------------------------------------------------\u001b[0m",
      "\u001b[0;31mIndexError\u001b[0m                                Traceback (most recent call last)",
      "Cell \u001b[0;32mIn[37], line 2\u001b[0m\n\u001b[1;32m      1\u001b[0m \u001b[38;5;66;03m# What if we try an index that's out of bounds?\u001b[39;00m\n\u001b[0;32m----> 2\u001b[0m \u001b[43mmixed_list\u001b[49m\u001b[43m[\u001b[49m\u001b[38;5;241;43m5\u001b[39;49m\u001b[43m]\u001b[49m\n",
      "\u001b[0;31mIndexError\u001b[0m: list index out of range"
     ]
    }
   ],
   "source": [
    "# What if we try an index that's out of bounds?\n",
    "mixed_list[5]"
   ]
  },
  {
   "cell_type": "code",
   "execution_count": 53,
   "metadata": {
    "colab": {
     "base_uri": "https://localhost:8080/",
     "height": 34
    },
    "colab_type": "code",
    "id": "4vx76G4yZbQI",
    "outputId": "b96fc044-5970-4084-8115-499e5498c036"
   },
   "outputs": [
    {
     "data": {
      "text/plain": [
       "5"
      ]
     },
     "execution_count": 53,
     "metadata": {},
     "output_type": "execute_result"
    }
   ],
   "source": [
    "# We can index from the very end by counting from the end\n",
    "\n",
    "my_list[-1]"
   ]
  },
  {
   "cell_type": "markdown",
   "metadata": {
    "colab_type": "text",
    "id": "i7iCZZdgX4_n"
   },
   "source": [
    "\n",
    "\n",
    "---\n",
    "\n"
   ]
  },
  {
   "cell_type": "markdown",
   "metadata": {
    "colab_type": "text",
    "id": "OVVzPEMzkkYe"
   },
   "source": [
    "## Slices from lists: taking more than one element at a time\n",
    "\n",
    "We've seen how we can extract one element using its index value. But, what if we want more than one item at a time? We can slice our list. \n",
    "\n",
    "\n",
    "\n",
    "```\n",
    "my_list[start:stop:skip]\n",
    "```\n",
    "\n"
   ]
  },
  {
   "cell_type": "code",
   "execution_count": 12,
   "metadata": {
    "colab": {
     "base_uri": "https://localhost:8080/",
     "height": 34
    },
    "colab_type": "code",
    "id": "FYx_KPwNkLQ9",
    "outputId": "50e8b3fa-06c9-4355-e402-fc9713d2bfbb"
   },
   "outputs": [
    {
     "data": {
      "text/plain": [
       "['one', 'two', 'three', 'four', 'five']"
      ]
     },
     "execution_count": 12,
     "metadata": {},
     "output_type": "execute_result"
    }
   ],
   "source": [
    "this_list = [\"one\",\"two\",\"three\",\"four\",\"five\"]\n",
    "this_list"
   ]
  },
  {
   "cell_type": "code",
   "execution_count": 13,
   "metadata": {
    "colab": {
     "base_uri": "https://localhost:8080/",
     "height": 34
    },
    "colab_type": "code",
    "id": "B5eDChBxk4sx",
    "outputId": "e3c71fb9-f25c-478e-efe5-e76228cc552d"
   },
   "outputs": [
    {
     "data": {
      "text/plain": [
       "['one', 'two', 'three']"
      ]
     },
     "execution_count": 13,
     "metadata": {},
     "output_type": "execute_result"
    }
   ],
   "source": [
    "this_list[0:3] # notice that the stop is not inclusive\n",
    "\n",
    "# notice that we also don't need to include a skip if we want every item in the range returned"
   ]
  },
  {
   "cell_type": "code",
   "execution_count": 14,
   "metadata": {
    "colab": {
     "base_uri": "https://localhost:8080/",
     "height": 34
    },
    "colab_type": "code",
    "id": "kL5__ni0k7Lj",
    "outputId": "6fdb88d3-4f8f-47c7-f35f-b7c1da57e7cf"
   },
   "outputs": [
    {
     "data": {
      "text/plain": [
       "['one', 'three']"
      ]
     },
     "execution_count": 14,
     "metadata": {},
     "output_type": "execute_result"
    }
   ],
   "source": [
    "this_list[0:3:2] # start at 0, stop at 3 (not inclusive) and skip every other"
   ]
  },
  {
   "cell_type": "code",
   "execution_count": 15,
   "metadata": {
    "colab": {
     "base_uri": "https://localhost:8080/",
     "height": 34
    },
    "colab_type": "code",
    "id": "8jjwexSvlJ7U",
    "outputId": "892f651c-232f-4411-fb56-59907442638f"
   },
   "outputs": [
    {
     "data": {
      "text/plain": [
       "['one', 'three', 'five']"
      ]
     },
     "execution_count": 15,
     "metadata": {},
     "output_type": "execute_result"
    }
   ],
   "source": [
    "this_list[ : : 2] # Every other element\n",
    "\n",
    "# Notice that we don't have to give a start/stop/skip if we don't want to\n",
    "# Python will, again because it's so nice, try to infer what we want\n",
    "# Here it'll assume we want to go from start to end"
   ]
  },
  {
   "cell_type": "code",
   "execution_count": 16,
   "metadata": {
    "colab": {
     "base_uri": "https://localhost:8080/",
     "height": 34
    },
    "colab_type": "code",
    "id": "cXw8DrtulbeN",
    "outputId": "71acacad-c1ac-41b9-abd9-4f16f1ca14cd"
   },
   "outputs": [
    {
     "data": {
      "text/plain": [
       "'five'"
      ]
     },
     "execution_count": 16,
     "metadata": {},
     "output_type": "execute_result"
    }
   ],
   "source": [
    "# We could also count from the end\n",
    "\n",
    "this_list[-1]"
   ]
  },
  {
   "cell_type": "code",
   "execution_count": 19,
   "metadata": {
    "colab": {
     "base_uri": "https://localhost:8080/",
     "height": 34
    },
    "colab_type": "code",
    "id": "TjmzB1yGle-E",
    "outputId": "3e5be367-ad5f-42bb-9674-e54dd28680d7"
   },
   "outputs": [
    {
     "name": "stdout",
     "output_type": "stream",
     "text": [
      "['one', 'two', 'three', 'four', 'five']\n"
     ]
    },
    {
     "data": {
      "text/plain": [
       "['four']"
      ]
     },
     "execution_count": 19,
     "metadata": {},
     "output_type": "execute_result"
    }
   ],
   "source": [
    "print(this_list)\n",
    "this_list[-2:-1] # remember, stop is not inclusive! "
   ]
  },
  {
   "cell_type": "markdown",
   "metadata": {
    "colab_type": "text",
    "id": "i7iCZZdgX4_n"
   },
   "source": [
    "\n",
    "\n",
    "---\n",
    "\n"
   ]
  },
  {
   "cell_type": "markdown",
   "metadata": {
    "colab_type": "text",
    "id": "z-cx8MdpOMXI",
    "tags": []
   },
   "source": [
    "# Mutable vs immutable data types\n",
    "\n",
    "Why do we need lists *and* tuples? What's the difference? Lists are mutable, tuples are immutable. \n",
    "\n",
    "**Whether a data type is mutable determines whether we can change its values after we've made it.** Some data types, like integers, can change their values whenever. Others, like tuples, cannot be changed. The reason we would want to protect some variables from changing is for data safety. "
   ]
  },
  {
   "cell_type": "code",
   "execution_count": 7,
   "metadata": {
    "colab": {
     "base_uri": "https://localhost:8080/",
     "height": 51
    },
    "colab_type": "code",
    "id": "yE2wGTTZXLfd",
    "outputId": "1998b1c1-b129-4e99-8fe7-8ff04a6e2066"
   },
   "outputs": [
    {
     "name": "stdout",
     "output_type": "stream",
     "text": [
      "my_list:  [1, 2, 3]\n",
      "New my_list:  [1, 2, 3, [4, 5, 6]]\n"
     ]
    }
   ],
   "source": [
    "# We can add to our list\n",
    "\n",
    "my_list = [1,2,3]\n",
    "print(\"my_list: \", my_list)\n",
    "\n",
    "my_list.append([4,5,6])\n",
    "print(\"New my_list: \", my_list)"
   ]
  },
  {
   "cell_type": "code",
   "execution_count": 68,
   "metadata": {
    "colab": {
     "base_uri": "https://localhost:8080/",
     "height": 51
    },
    "colab_type": "code",
    "id": "WPtFcvgZXVl_",
    "outputId": "2e8d0e37-f358-4330-a8bb-91fc48f0ff8a"
   },
   "outputs": [
    {
     "name": "stdout",
     "output_type": "stream",
     "text": [
      "Pop this item:  [4, 5, 6]\n",
      "New list after popping right-most item:  [1, 2, 3]\n"
     ]
    }
   ],
   "source": [
    "# Get the last element (right side) from a list\n",
    "\n",
    "print(\"Pop this item: \", my_list.pop())\n",
    "print(\"New list after popping right-most item: \", my_list)"
   ]
  },
  {
   "cell_type": "code",
   "execution_count": 69,
   "metadata": {
    "colab": {
     "base_uri": "https://localhost:8080/",
     "height": 34
    },
    "colab_type": "code",
    "id": "-VXdihIpXdI9",
    "outputId": "dbbf09b3-4ffe-4c38-cc99-622c1f8c00a9"
   },
   "outputs": [
    {
     "data": {
      "text/plain": [
       "[1, 3]"
      ]
     },
     "execution_count": 69,
     "metadata": {},
     "output_type": "execute_result"
    }
   ],
   "source": [
    "# Pop using an index\n",
    "\n",
    "my_list.pop(1)\n",
    "my_list"
   ]
  },
  {
   "cell_type": "code",
   "execution_count": 70,
   "metadata": {
    "colab": {
     "base_uri": "https://localhost:8080/",
     "height": 34
    },
    "colab_type": "code",
    "id": "j159bKdEXw_W",
    "outputId": "4d398583-1e80-40f1-882f-7d0b5b4fef46"
   },
   "outputs": [
    {
     "data": {
      "text/plain": [
       "(1, 2, 3)"
      ]
     },
     "execution_count": 70,
     "metadata": {},
     "output_type": "execute_result"
    }
   ],
   "source": [
    "# How about tuples? \n",
    "\n",
    "my_tup = (1,2,3)\n",
    "my_tup"
   ]
  },
  {
   "cell_type": "markdown",
   "metadata": {},
   "source": [
    "The following cells will cause errors because **tuples are immutable, so you can't add or remove from them.**"
   ]
  },
  {
   "cell_type": "code",
   "execution_count": 71,
   "metadata": {
    "colab": {
     "base_uri": "https://localhost:8080/",
     "height": 164
    },
    "colab_type": "code",
    "id": "LfYQxs4lYAE_",
    "outputId": "10290895-8d09-47a4-a089-a6db4aeba131"
   },
   "outputs": [
    {
     "ename": "AttributeError",
     "evalue": "'tuple' object has no attribute 'pop'",
     "output_type": "error",
     "traceback": [
      "\u001b[0;31m---------------------------------------------------------------------------\u001b[0m",
      "\u001b[0;31mAttributeError\u001b[0m                            Traceback (most recent call last)",
      "Cell \u001b[0;32mIn[71], line 1\u001b[0m\n\u001b[0;32m----> 1\u001b[0m \u001b[43mmy_tup\u001b[49m\u001b[38;5;241;43m.\u001b[39;49m\u001b[43mpop\u001b[49m()\n",
      "\u001b[0;31mAttributeError\u001b[0m: 'tuple' object has no attribute 'pop'"
     ]
    }
   ],
   "source": [
    "my_tup.pop()"
   ]
  },
  {
   "cell_type": "code",
   "execution_count": 72,
   "metadata": {
    "colab": {
     "base_uri": "https://localhost:8080/",
     "height": 164
    },
    "colab_type": "code",
    "id": "1aQomVw7X-1y",
    "outputId": "6db718cd-5a70-4ddb-a83a-d3f9ad9465bb"
   },
   "outputs": [
    {
     "ename": "AttributeError",
     "evalue": "'tuple' object has no attribute 'append'",
     "output_type": "error",
     "traceback": [
      "\u001b[0;31m---------------------------------------------------------------------------\u001b[0m",
      "\u001b[0;31mAttributeError\u001b[0m                            Traceback (most recent call last)",
      "Cell \u001b[0;32mIn[72], line 1\u001b[0m\n\u001b[0;32m----> 1\u001b[0m \u001b[43mmy_tup\u001b[49m\u001b[38;5;241;43m.\u001b[39;49m\u001b[43mappend\u001b[49m(\u001b[38;5;241m5\u001b[39m)\n",
      "\u001b[0;31mAttributeError\u001b[0m: 'tuple' object has no attribute 'append'"
     ]
    }
   ],
   "source": [
    "my_tup.append(5)"
   ]
  },
  {
   "cell_type": "code",
   "execution_count": 73,
   "metadata": {},
   "outputs": [
    {
     "ename": "TypeError",
     "evalue": "'tuple' object does not support item assignment",
     "output_type": "error",
     "traceback": [
      "\u001b[0;31m---------------------------------------------------------------------------\u001b[0m",
      "\u001b[0;31mTypeError\u001b[0m                                 Traceback (most recent call last)",
      "Cell \u001b[0;32mIn[73], line 1\u001b[0m\n\u001b[0;32m----> 1\u001b[0m \u001b[43mmy_tup\u001b[49m\u001b[43m[\u001b[49m\u001b[38;5;241;43m1\u001b[39;49m\u001b[43m]\u001b[49m \u001b[38;5;241m=\u001b[39m \u001b[38;5;241m7\u001b[39m\n",
      "\u001b[0;31mTypeError\u001b[0m: 'tuple' object does not support item assignment"
     ]
    }
   ],
   "source": [
    "my_tup[1] = 7"
   ]
  },
  {
   "cell_type": "markdown",
   "metadata": {},
   "source": [
    "Lists, however, are mutable. This means you can dynamically change values within a list without creating a new one."
   ]
  },
  {
   "cell_type": "code",
   "execution_count": 74,
   "metadata": {},
   "outputs": [
    {
     "data": {
      "text/plain": [
       "[1, 3]"
      ]
     },
     "execution_count": 74,
     "metadata": {},
     "output_type": "execute_result"
    }
   ],
   "source": [
    "my_list"
   ]
  },
  {
   "cell_type": "code",
   "execution_count": 75,
   "metadata": {},
   "outputs": [
    {
     "data": {
      "text/plain": [
       "['new_value', 3]"
      ]
     },
     "execution_count": 75,
     "metadata": {},
     "output_type": "execute_result"
    }
   ],
   "source": [
    "my_list[0] = \"new_value\"\n",
    "my_list"
   ]
  },
  {
   "cell_type": "markdown",
   "metadata": {
    "colab_type": "text",
    "id": "WqlyPRETa3bt"
   },
   "source": [
    "\n",
    "\n",
    "---\n",
    "\n"
   ]
  }
 ],
 "metadata": {
  "colab": {
   "collapsed_sections": [],
   "name": "Intro_to_Python_AnitaB_05292019.ipynb",
   "provenance": []
  },
  "kernelspec": {
   "display_name": "Python 3 (ipykernel)",
   "language": "python",
   "name": "python3"
  },
  "language_info": {
   "codemirror_mode": {
    "name": "ipython",
    "version": 3
   },
   "file_extension": ".py",
   "mimetype": "text/x-python",
   "name": "python",
   "nbconvert_exporter": "python",
   "pygments_lexer": "ipython3",
   "version": "3.12.7"
  }
 },
 "nbformat": 4,
 "nbformat_minor": 4
}
